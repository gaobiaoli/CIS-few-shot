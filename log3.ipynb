{
 "cells": [
  {
   "cell_type": "code",
   "execution_count": 3,
   "metadata": {},
   "outputs": [
    {
     "name": "stdout",
     "output_type": "stream",
     "text": [
      "loading annotations into memory...\n",
      "Done (t=0.76s)\n",
      "creating index...\n",
      "index created!\n",
      "loading annotations into memory...\n",
      "Done (t=0.11s)\n",
      "creating index...\n",
      "index created!\n",
      "loading annotations into memory...\n",
      "Done (t=0.51s)\n",
      "creating index...\n",
      "index created!\n",
      "Initializing class-specific contexts\n",
      "Initial context: \"X X X X X X X X X X X X X X X X\"\n",
      "Number of context words (tokens): 16\n",
      "Epoch: 50: 100%|████████████████████████████████| 50/50 [00:49<00:00,  1.02it/s]\n",
      "100%|███████████████████████████████████████| 1200/1200 [00:31<00:00, 37.61it/s]\n",
      "\n",
      "**** CoOp CLIP's val accuracy: 65.15 ****\n",
      "\n",
      "[0.88223522 0.75652174 0.69505178 0.78803778 0.80829016 0.88362652\n",
      " 0.83172674 0.27425465 0.56121045 0.64410058]\n",
      "[0.91960847 0.82075472 0.76747141 0.81189189 0.83348175 0.82553729\n",
      " 0.56260631 0.59591983 0.64864865 0.46638655]\n",
      "[0.90053426 0.78733032 0.7294686  0.79978701 0.82069268 0.85359477\n",
      " 0.67119504 0.37563452 0.60176991 0.54102356]\n",
      "loading annotations into memory...\n",
      "Done (t=2.26s)\n",
      "creating index...\n",
      "index created!\n",
      "loading annotations into memory...\n",
      "Done (t=0.31s)\n",
      "creating index...\n",
      "index created!\n",
      "loading annotations into memory...\n",
      "Done (t=0.50s)\n",
      "creating index...\n",
      "index created!\n",
      "Initializing class-specific contexts\n",
      "Initial context: \"X X X X X X X X X X X X X X X X\"\n",
      "Number of context words (tokens): 16\n",
      "Epoch: 50: 100%|████████████████████████████████| 30/30 [00:37<00:00,  1.27s/it]\n",
      "100%|█████████████████████████████████████████| 593/593 [00:15<00:00, 37.15it/s]\n",
      "\n",
      "**** CoOp CLIP's val accuracy: 58.31 ****\n",
      "\n",
      "[0.96754423 0.66842105 0.10286519 0.16514806 0.18052738 0.22264151\n",
      " 0.85094232 0.65668203 0.04604692 0.12076271 0.27777778 0.07903056\n",
      " 0.66131191]\n",
      "[0.59581403 0.65329218 0.71335505 0.40055249 0.52046784 0.57560976\n",
      " 0.5682685  0.52102377 0.31176471 0.47302905 0.61452514 0.46875\n",
      " 0.59951456]\n",
      "[0.73748474 0.66077003 0.17980296 0.23387097 0.26807229 0.32108844\n",
      " 0.68145438 0.58103976 0.08024224 0.19240506 0.3826087  0.13525699\n",
      " 0.62889879]\n"
     ]
    }
   ],
   "source": [
    "!python CIS_coop.py\n",
    "!python mocs_coop.py"
   ]
  },
  {
   "cell_type": "code",
   "execution_count": null,
   "metadata": {},
   "outputs": [],
   "source": [
    "!python CIS_clipadapter.py\n",
    "!python mocs_clipadapter.py"
   ]
  }
 ],
 "metadata": {
  "kernelspec": {
   "display_name": "openmmlab",
   "language": "python",
   "name": "python3"
  },
  "language_info": {
   "codemirror_mode": {
    "name": "ipython",
    "version": 3
   },
   "file_extension": ".py",
   "mimetype": "text/x-python",
   "name": "python",
   "nbconvert_exporter": "python",
   "pygments_lexer": "ipython3",
   "version": "3.8.17"
  }
 },
 "nbformat": 4,
 "nbformat_minor": 2
}
