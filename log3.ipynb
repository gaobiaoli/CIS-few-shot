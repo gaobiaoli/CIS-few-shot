{
 "cells": [
  {
   "cell_type": "code",
   "execution_count": 3,
   "metadata": {},
   "outputs": [
    {
     "name": "stdout",
     "output_type": "stream",
     "text": [
      "loading annotations into memory...\n",
      "Done (t=0.76s)\n",
      "creating index...\n",
      "index created!\n",
      "loading annotations into memory...\n",
      "Done (t=0.11s)\n",
      "creating index...\n",
      "index created!\n",
      "loading annotations into memory...\n",
      "Done (t=0.51s)\n",
      "creating index...\n",
      "index created!\n",
      "Initializing class-specific contexts\n",
      "Initial context: \"X X X X X X X X X X X X X X X X\"\n",
      "Number of context words (tokens): 16\n",
      "Epoch: 50: 100%|████████████████████████████████| 50/50 [00:49<00:00,  1.02it/s]\n",
      "100%|███████████████████████████████████████| 1200/1200 [00:31<00:00, 37.61it/s]\n",
      "\n",
      "**** CoOp CLIP's val accuracy: 65.15 ****\n",
      "\n",
      "[0.88223522 0.75652174 0.69505178 0.78803778 0.80829016 0.88362652\n",
      " 0.83172674 0.27425465 0.56121045 0.64410058]\n",
      "[0.91960847 0.82075472 0.76747141 0.81189189 0.83348175 0.82553729\n",
      " 0.56260631 0.59591983 0.64864865 0.46638655]\n",
      "[0.90053426 0.78733032 0.7294686  0.79978701 0.82069268 0.85359477\n",
      " 0.67119504 0.37563452 0.60176991 0.54102356]\n",
      "loading annotations into memory...\n",
      "Done (t=2.26s)\n",
      "creating index...\n",
      "index created!\n",
      "loading annotations into memory...\n",
      "Done (t=0.31s)\n",
      "creating index...\n",
      "index created!\n",
      "loading annotations into memory...\n",
      "Done (t=0.50s)\n",
      "creating index...\n",
      "index created!\n",
      "Initializing class-specific contexts\n",
      "Initial context: \"X X X X X X X X X X X X X X X X\"\n",
      "Number of context words (tokens): 16\n",
      "Epoch: 50: 100%|████████████████████████████████| 30/30 [00:37<00:00,  1.27s/it]\n",
      "100%|█████████████████████████████████████████| 593/593 [00:15<00:00, 37.15it/s]\n",
      "\n",
      "**** CoOp CLIP's val accuracy: 58.31 ****\n",
      "\n",
      "[0.96754423 0.66842105 0.10286519 0.16514806 0.18052738 0.22264151\n",
      " 0.85094232 0.65668203 0.04604692 0.12076271 0.27777778 0.07903056\n",
      " 0.66131191]\n",
      "[0.59581403 0.65329218 0.71335505 0.40055249 0.52046784 0.57560976\n",
      " 0.5682685  0.52102377 0.31176471 0.47302905 0.61452514 0.46875\n",
      " 0.59951456]\n",
      "[0.73748474 0.66077003 0.17980296 0.23387097 0.26807229 0.32108844\n",
      " 0.68145438 0.58103976 0.08024224 0.19240506 0.3826087  0.13525699\n",
      " 0.62889879]\n"
     ]
    }
   ],
   "source": [
    "!python CIS_coop.py\n",
    "!python mocs_coop.py"
   ]
  },
  {
   "cell_type": "code",
   "execution_count": 4,
   "metadata": {},
   "outputs": [
    {
     "name": "stdout",
     "output_type": "stream",
     "text": [
      "loading annotations into memory...\n",
      "Done (t=0.69s)\n",
      "creating index...\n",
      "index created!\n",
      "loading annotations into memory...\n",
      "Done (t=0.11s)\n",
      "creating index...\n",
      "index created!\n",
      "loading annotations into memory...\n",
      "Done (t=0.58s)\n",
      "creating index...\n",
      "index created!\n",
      "100%|███████████████████████████████████████████| 50/50 [00:41<00:00,  1.19it/s]\n",
      "100%|███████████████████████████████████████| 1200/1200 [00:55<00:00, 21.65it/s]\n",
      "\n",
      "**** CLIP_Adapter's test accuracy: 66.11 ****\n",
      "\n",
      "[0.89114923 0.80190931 0.71995465 0.83369099 0.8862782  0.7978972\n",
      " 0.85458679 0.28498787 0.64066852 0.74348697]\n",
      "[0.94191271 0.79245283 0.8068615  0.84       0.83971505 0.86346397\n",
      " 0.55065205 0.65193271 0.73131955 0.51960784]\n",
      "[0.91582807 0.79715302 0.76093469 0.8368336  0.86236854 0.82938676\n",
      " 0.66975087 0.39660334 0.68299926 0.61170651]\n",
      "loading annotations into memory...\n",
      "Done (t=2.65s)\n",
      "creating index...\n",
      "index created!\n",
      "loading annotations into memory...\n",
      "Done (t=0.39s)\n",
      "creating index...\n",
      "index created!\n",
      "loading annotations into memory...\n",
      "Done (t=0.69s)\n",
      "creating index...\n",
      "index created!\n",
      "100%|███████████████████████████████████████████| 50/50 [00:55<00:00,  1.10s/it]\n",
      "100%|█████████████████████████████████████████| 593/593 [00:16<00:00, 35.79it/s]\n",
      "\n",
      "**** CLIP Adapter's val accuracy: 72.15 ****\n",
      "\n",
      "[0.96371998 0.71208791 0.13645353 0.28729282 0.2173913  0.25792812\n",
      " 0.90619946 0.67077682 0.09459459 0.18600368 0.32453826 0.16216216\n",
      " 0.64689266]\n",
      "[0.8088866  0.66666667 0.6742671  0.43093923 0.46783626 0.59512195\n",
      " 0.64111365 0.49725777 0.32941176 0.41908714 0.68715084 0.4875\n",
      " 0.55582524]\n",
      "[0.87954111 0.68862912 0.22697368 0.34475138 0.29684601 0.35988201\n",
      " 0.7509493  0.57112861 0.14698163 0.25765306 0.44086022 0.24336973\n",
      " 0.59791123]\n"
     ]
    }
   ],
   "source": [
    "!python CIS_clipadapter.py\n",
    "!python mocs_clipadapter.py"
   ]
  },
  {
   "cell_type": "code",
   "execution_count": 5,
   "metadata": {},
   "outputs": [
    {
     "name": "stdout",
     "output_type": "stream",
     "text": [
      "loading annotations into memory...\n",
      "Done (t=1.01s)\n",
      "creating index...\n",
      "index created!\n",
      "loading annotations into memory...\n",
      "Done (t=0.17s)\n",
      "creating index...\n",
      "index created!\n",
      "loading annotations into memory...\n",
      "Done (t=0.62s)\n",
      "creating index...\n",
      "index created!\n",
      "100%|███████████████████████████████████████████| 40/40 [00:01<00:00, 21.90it/s]\n",
      "100%|█████████████████████████████████████████| 306/306 [00:15<00:00, 20.24it/s]\n",
      "[0.655126633986928, 0.6493055555555556, 0.6501225490196079, 0.654922385620915, 0.632046568627451, 0.5307393790849673, 0.5659722222222222]\n",
      "100%|███████████████████████████████████████| 1200/1200 [00:29<00:00, 41.02it/s]\n",
      "Test accuracy : 63.22\n",
      "loading annotations into memory...\n",
      "Done (t=2.14s)\n",
      "creating index...\n",
      "index created!\n",
      "loading annotations into memory...\n",
      "Done (t=0.37s)\n",
      "creating index...\n",
      "index created!\n",
      "loading annotations into memory...\n",
      "Done (t=0.51s)\n",
      "creating index...\n",
      "index created!\n",
      "100%|███████████████████████████████████████████| 52/52 [00:02<00:00, 23.36it/s]\n",
      "100%|█████████████████████████████████████████| 593/593 [00:13<00:00, 43.17it/s]\n",
      "Test accuracy : 63.65\n"
     ]
    }
   ],
   "source": [
    "!python CIS_lpclip.py\n",
    "!python mocs_lpclip.py"
   ]
  }
 ],
 "metadata": {
  "kernelspec": {
   "display_name": "openmmlab",
   "language": "python",
   "name": "python3"
  },
  "language_info": {
   "codemirror_mode": {
    "name": "ipython",
    "version": 3
   },
   "file_extension": ".py",
   "mimetype": "text/x-python",
   "name": "python",
   "nbconvert_exporter": "python",
   "pygments_lexer": "ipython3",
   "version": "3.8.17"
  }
 },
 "nbformat": 4,
 "nbformat_minor": 2
}
